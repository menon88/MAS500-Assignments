{
 "cells": [
  {
   "cell_type": "code",
   "execution_count": 5,
   "metadata": {},
   "outputs": [],
   "source": [
    "#Initialize sqlalchemy\n",
    "\n",
    "from sqlalchemy import *\n",
    "import datetime"
   ]
  },
  {
   "cell_type": "code",
   "execution_count": 6,
   "metadata": {},
   "outputs": [
    {
     "name": "stderr",
     "output_type": "stream",
     "text": [
      "/Library/Python/2.7/site-packages/urllib3/util/ssl_.py:339: SNIMissingWarning: An HTTPS request has been made, but the SNI (Subject Name Indication) extension to TLS is not available on this platform. This may cause the server to present an incorrect TLS certificate, which can cause validation failures. You can upgrade to a newer version of Python to solve this. For more information, see https://urllib3.readthedocs.io/en/latest/advanced-usage.html#ssl-warnings\n",
      "  SNIMissingWarning\n",
      "/Library/Python/2.7/site-packages/urllib3/util/ssl_.py:137: InsecurePlatformWarning: A true SSLContext object is not available. This prevents urllib3 from configuring SSL appropriately and may cause certain SSL connections to fail. You can upgrade to a newer version of Python to solve this. For more information, see https://urllib3.readthedocs.io/en/latest/advanced-usage.html#ssl-warnings\n",
      "  InsecurePlatformWarning\n"
     ]
    },
    {
     "name": "stdout",
     "output_type": "stream",
     "text": [
      "{'count': 3168383, 'keyword': 'trump'}\n"
     ]
    },
    {
     "name": "stderr",
     "output_type": "stream",
     "text": [
      "/Library/Python/2.7/site-packages/urllib3/util/ssl_.py:137: InsecurePlatformWarning: A true SSLContext object is not available. This prevents urllib3 from configuring SSL appropriately and may cause certain SSL connections to fail. You can upgrade to a newer version of Python to solve this. For more information, see https://urllib3.readthedocs.io/en/latest/advanced-usage.html#ssl-warnings\n",
      "  InsecurePlatformWarning\n"
     ]
    },
    {
     "name": "stdout",
     "output_type": "stream",
     "text": [
      "{'count': 338393, 'keyword': 'clinton'}\n"
     ]
    }
   ],
   "source": [
    "## Initialize mediacloud\n",
    "import mediacloud, json, datetime\n",
    "\n",
    "MY_API_KEY = '9dacfeea9306ffccd9290e8efaed12bcab3e94d33a798944690240860c920eb9'\n",
    "# from config import MY_API_KEY\n",
    "\n",
    "mc = mediacloud.api.MediaCloud(MY_API_KEY)\n",
    "\n",
    "keyword1 = 'trump'\n",
    "res = mc.sentenceCount(keyword1, solr_filter=[mc.publish_date_query( datetime.date( 2016, 11, 1), datetime.date( 2017, 11, 30) ), 'tags_id_media:1' ])\n",
    "query1 = {'keyword': keyword1, 'count': res['count']}\n",
    "print(query1)\n",
    "\n",
    "keyword2 = 'clinton'\n",
    "res = mc.sentenceCount(keyword2, solr_filter=[mc.publish_date_query( datetime.date( 2016, 11, 1), datetime.date( 2017, 11, 30) ), 'tags_id_media:1' ])\n",
    "query2 = {'keyword': keyword2, 'count': res['count']}\n",
    "print(query2)\n"
   ]
  },
  {
   "cell_type": "code",
   "execution_count": 7,
   "metadata": {},
   "outputs": [
    {
     "name": "stdout",
     "output_type": "stream",
     "text": [
      "2017-12-15 09:39:16,801 INFO sqlalchemy.engine.base.Engine SELECT CAST('test plain returns' AS VARCHAR(60)) AS anon_1\n",
      "2017-12-15 09:39:16,804 INFO sqlalchemy.engine.base.Engine ()\n",
      "2017-12-15 09:39:16,808 INFO sqlalchemy.engine.base.Engine SELECT CAST('test unicode returns' AS VARCHAR(60)) AS anon_1\n",
      "2017-12-15 09:39:16,809 INFO sqlalchemy.engine.base.Engine ()\n",
      "2017-12-15 09:39:16,814 INFO sqlalchemy.engine.base.Engine PRAGMA table_info(\"queries\")\n",
      "2017-12-15 09:39:16,819 INFO sqlalchemy.engine.base.Engine ()\n",
      "2017-12-15 09:39:16,823 INFO sqlalchemy.engine.base.Engine \n",
      "CREATE TABLE queries (\n",
      "\tid INTEGER NOT NULL, \n",
      "\tkeyword VARCHAR(400) NOT NULL, \n",
      "\tcount INTEGER NOT NULL, \n",
      "\ttimestamp DATETIME, \n",
      "\tPRIMARY KEY (id)\n",
      ")\n",
      "\n",
      "\n",
      "2017-12-15 09:39:16,828 INFO sqlalchemy.engine.base.Engine ()\n",
      "2017-12-15 09:39:16,831 INFO sqlalchemy.engine.base.Engine COMMIT\n"
     ]
    }
   ],
   "source": [
    "#Create a table \n",
    "\n",
    "# add `echo=True` to see log statements of all the SQL that is generated\n",
    "engine = create_engine('sqlite:///:memory:',echo=True) # just save the db in memory for now (ie. not on disk)\n",
    "db_conn = engine.connect()\n",
    "metadata = MetaData()\n",
    "# define a table to use\n",
    "keywords_table = Table('queries', metadata,\n",
    "    Column('id', Integer, primary_key=True),\n",
    "    Column('keyword', String(400), nullable=False),\n",
    "    Column('count', Integer, nullable=False),\n",
    "    Column('timestamp', DateTime, default=datetime.datetime.now),\n",
    ")\n",
    "metadata.create_all(engine) # and create the tables in the databa"
   ]
  },
  {
   "cell_type": "code",
   "execution_count": 8,
   "metadata": {},
   "outputs": [
    {
     "name": "stdout",
     "output_type": "stream",
     "text": [
      "2017-12-15 09:39:25,953 INFO sqlalchemy.engine.base.Engine INSERT INTO queries (keyword, count, timestamp) VALUES (?, ?, ?), (?, ?, ?)\n",
      "2017-12-15 09:39:25,957 INFO sqlalchemy.engine.base.Engine ('trump', 3168383, '2017-12-15 09:39:25.953136', 'clinton', 338393, '2017-12-15 09:39:25.953157')\n",
      "2017-12-15 09:39:25,961 INFO sqlalchemy.engine.base.Engine COMMIT\n"
     ]
    }
   ],
   "source": [
    "# Insert count per keyword\n",
    "insert_stmt = keywords_table.insert().values([query1, query2])\n",
    "result = db_conn.execute(insert_stmt)"
   ]
  },
  {
   "cell_type": "code",
   "execution_count": 9,
   "metadata": {},
   "outputs": [
    {
     "name": "stdout",
     "output_type": "stream",
     "text": [
      "2017-12-15 09:39:34,717 INFO sqlalchemy.engine.base.Engine SELECT queries.id, queries.keyword, queries.count, queries.timestamp \n",
      "FROM queries\n",
      "2017-12-15 09:39:34,719 INFO sqlalchemy.engine.base.Engine ()\n",
      "The count for trump is 3168383\n",
      "The count for clinton is 338393\n",
      "Total count is 3506776\n"
     ]
    }
   ],
   "source": [
    "# Select count per keyword\n",
    "# Show total\n",
    "\n",
    "from sqlalchemy.sql import select\n",
    "\n",
    "select_stmt = select([keywords_table])\n",
    "results = db_conn.execute(select_stmt)\n",
    "\n",
    "total_count = 0\n",
    "\n",
    "for row in results:\n",
    "    total_count += row.count\n",
    "    print('The count for {} is {}'.format(row.keyword, row.count))\n",
    "\n",
    "print('Total count is {}'.format(total_count))"
   ]
  },
  {
   "cell_type": "code",
   "execution_count": null,
   "metadata": {},
   "outputs": [],
   "source": []
  }
 ],
 "metadata": {
  "kernelspec": {
   "display_name": "Python 2",
   "language": "python",
   "name": "python2"
  },
  "language_info": {
   "codemirror_mode": {
    "name": "ipython",
    "version": 2
   },
   "file_extension": ".py",
   "mimetype": "text/x-python",
   "name": "python",
   "nbconvert_exporter": "python",
   "pygments_lexer": "ipython2",
   "version": "2.7.5"
  }
 },
 "nbformat": 4,
 "nbformat_minor": 2
}
